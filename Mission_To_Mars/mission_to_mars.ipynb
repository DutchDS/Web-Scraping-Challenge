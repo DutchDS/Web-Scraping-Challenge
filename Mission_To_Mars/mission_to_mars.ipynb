{
 "cells": [
  {
   "cell_type": "code",
   "execution_count": 1,
   "metadata": {},
   "outputs": [
    {
     "name": "stderr",
     "output_type": "stream",
     "text": [
      "C:\\Users\\dutch\\Anaconda3\\envs\\PythonData\\lib\\site-packages\\ipykernel\\parentpoller.py:116: UserWarning: Parent poll failed.  If the frontend dies,\n",
      "                the kernel may be left running.  Please let us know\n",
      "                about your system (bitness, Python, etc.) at\n",
      "                ipython-dev@scipy.org\n",
      "  ipython-dev@scipy.org\"\"\")\n"
     ]
    }
   ],
   "source": [
    "from bs4 import BeautifulSoup as bs\n",
    "from splinter import Browser\n",
    "\n",
    "import requests \n",
    "import pymongo\n",
    "import pandas as pd\n",
    "import re"
   ]
  },
  {
   "cell_type": "markdown",
   "metadata": {},
   "source": [
    "# NASA Mars News"
   ]
  },
  {
   "cell_type": "code",
   "execution_count": 2,
   "metadata": {},
   "outputs": [],
   "source": [
    "executable_path = {'executable_path': 'chromedriver.exe'}\n",
    "browser = Browser('chrome', **executable_path, headless=True)"
   ]
  },
  {
   "cell_type": "code",
   "execution_count": 3,
   "metadata": {},
   "outputs": [],
   "source": [
    "url_mars = 'https://mars.nasa.gov/news/?page=0&per_page=40&order=publish_date+desc%2Ccreated_at+desc&search=&category=19%2C165%2C184%2C204&blank_scope=Latest'\n",
    "browser.visit(url_mars)"
   ]
  },
  {
   "cell_type": "code",
   "execution_count": 4,
   "metadata": {},
   "outputs": [],
   "source": [
    "html = browser.html\n",
    "soup = bs(html, 'html.parser')\n",
    "# print(soup.prettify())"
   ]
  },
  {
   "cell_type": "code",
   "execution_count": 5,
   "metadata": {},
   "outputs": [
    {
     "name": "stdout",
     "output_type": "stream",
     "text": [
      "news_title: NASA's Mars 2020 Rover Closer to Getting Its Name\n",
      "news_p: 155 students from across the U.S. have been chosen as semifinalists in NASA's essay contest to name the Mars 2020 rover, and see it launch from Cape Canaveral this July.\n"
     ]
    }
   ],
   "source": [
    "# Iterate through each article found\n",
    "# Tried this as well: response = requests.get(url_mars)\n",
    "# But unles JavaScript is turned of for this website, 'press release' articles show up first, not the latest one (discussed with John and Bobby)\n",
    "articles = soup.find_all('div', class_='list_text')\n",
    "\n",
    "news_title = soup.find('div', class_='content_title').text\n",
    "news_body = soup.find('div', class_='article_teaser_body').text\n",
    "\n",
    "print(\"news_title: \" + news_title)\n",
    "print(\"news_p: \" + news_body)"
   ]
  },
  {
   "cell_type": "code",
   "execution_count": 6,
   "metadata": {},
   "outputs": [
    {
     "name": "stdout",
     "output_type": "stream",
     "text": [
      "-----THROUGH SPLINTER------\n",
      "-----------\n",
      "0\n",
      "NASA's Mars 2020 Rover Closer to Getting Its Name\n",
      "155 students from across the U.S. have been chosen as semifinalists in NASA's essay contest to name the Mars 2020 rover, and see it launch from Cape Canaveral this July.\n",
      "-----------\n",
      "1\n",
      "Media Get a Close-Up of NASA's Mars 2020 Rover\n",
      "The clean room at NASA's Jet Propulsion Laboratory was open to the media to see NASA's next Mars explorer before it leaves for Florida in preparation for a summertime launch.\n",
      "-----------\n",
      "2\n",
      "Space History Is Made in This NASA Robot Factory\n",
      "From rockets to rovers, JPL's Spacecraft Assembly Facility has been at the center of robotic spaceflight. Here's a closer look at what makes it so special.\n",
      "-----------\n",
      "3\n",
      "NASA's Mars 2020 Rover Completes Its First Drive\n",
      "In a 10-plus-hour marathon, the rover steered, turned and drove in 3-foot (1-meter) increments over small ramps.\n",
      "    \n",
      "    \n",
      "-----THROUGH REQUEST.GET------\n",
      "--------------------------------------------\n",
      "0\n",
      "NASA's Mars 2020 Rover Closer to Getting Its Name\n",
      "155 students from across the U.S. have been chosen as semifinalists in NASA's essay contest to name the Mars 2020 rover, and see it launch from Cape Canaveral this July.\n",
      "--------------------------------------------\n",
      "1\n",
      "NASA Invites Students to Name Mars 2020 Rover\n",
      "Through Nov. 1, K-12 students in the U.S. are encouraged to enter an essay contest to name NASA's next Mars rover.\n",
      "--------------------------------------------\n",
      "2\n",
      "NASA's Curiosity Mars Rover Finds a Clay Cache\n",
      "The rover recently drilled two samples, and both showed the highest levels of clay ever found during the mission.\n",
      "--------------------------------------------\n",
      "3\n",
      "Why This Martian Full Moon Looks Like Candy\n",
      "For the first time, NASA's Mars Odyssey orbiter has caught the Martian moon Phobos during a full moon phase. Each color in this new image represents a temperature range detected by Odyssey's infrared camera.\n"
     ]
    }
   ],
   "source": [
    "# Remove this from script.py, but keep it here for future reference\n",
    "\n",
    "# get the first 4 results\n",
    "\n",
    "limit = 3\n",
    "print('-----THROUGH SPLINTER------')\n",
    "\n",
    "for index, article in enumerate(articles):\n",
    "    title = article.find('div', class_='content_title')\n",
    "    body = article.find('div', class_='article_teaser_body')\n",
    "    print('-----------')\n",
    "    print(index)\n",
    "    print(title.text)\n",
    "    news_title = title.text\n",
    "    print(body.text)\n",
    "    news_p = body.text\n",
    "    if index == limit:\n",
    "        break\n",
    "        \n",
    "# The code below could also be used, but since the page uses JavaScript to organize it's dropdown list, \n",
    "# It won't return the latest news articles (but the ones under 'Press Release') unless JavaScript is turned of for the website.\n",
    " \n",
    "# Retrieve page with the requests module\n",
    "response = requests.get(url_mars)\n",
    "# Create BeautifulSoup object; parse with 'lxml'\n",
    "soup = bs(response.text, 'lxml')\n",
    "# print(soup)\n",
    "\n",
    "results = soup.find_all('div', class_=\"slide\")\n",
    "\n",
    "print(\"    \")\n",
    "print(\"    \")\n",
    "\n",
    "# Get the first 4 results\n",
    "limit = 3\n",
    "print('-----THROUGH REQUEST.GET------')\n",
    "\n",
    "for index, r in enumerate(results):\n",
    "    title = r.find('div', class_=\"content_title\")\n",
    "    body = r.find('div', class_=\"rollover_description_inner\")\n",
    "    print(\"--------------------------------------------\")\n",
    "    print(index)\n",
    "    print(title.text.strip())\n",
    "    print(body.text.strip())\n",
    "    if index == limit:\n",
    "        break"
   ]
  },
  {
   "cell_type": "markdown",
   "metadata": {},
   "source": [
    "# JPL Mars Space Images - Featured Image"
   ]
  },
  {
   "cell_type": "code",
   "execution_count": 7,
   "metadata": {},
   "outputs": [],
   "source": [
    "# URL of page to be scraped\n",
    "url = 'https://www.jpl.nasa.gov/spaceimages/?search=&category=Mars'\n",
    "\n",
    "# Retrieve page with the requests module\n",
    "response = requests.get(url)\n",
    "\n",
    "# Create BeautifulSoup object; parse with 'lxml'\n",
    "soup = bs(response.text, 'lxml')\n",
    "# print(soup)"
   ]
  },
  {
   "cell_type": "code",
   "execution_count": 8,
   "metadata": {},
   "outputs": [
    {
     "name": "stdout",
     "output_type": "stream",
     "text": [
      "/spaceimages/images/mediumsize/PIA16715_ip.jpg\n",
      "/spaceimages/images/wallpaper/PIA16715-1920x1200.jpg');\n"
     ]
    }
   ],
   "source": [
    "# <img src=\"/spaceimages/images/mediumsize/PIA00063_ip.jpg\" class=\"fancybox-image\" style=\"display: inline;\">\n",
    "space_image = soup.article.a['data-fancybox-href']\n",
    "print(space_image)\n",
    "\n",
    "# unless the background image is needed:\n",
    "space_image_background = soup.article['style']\n",
    "\n",
    "split_str = str.split(space_image_background, ' url(\\'')\n",
    "split_str = split_str[1]\n",
    "split_str = str.split(split_str,')\\'')\n",
    "space_image_background = split_str[0]\n",
    "\n",
    "print(space_image_background)"
   ]
  },
  {
   "cell_type": "code",
   "execution_count": 9,
   "metadata": {},
   "outputs": [
    {
     "name": "stdout",
     "output_type": "stream",
     "text": [
      "featured_image_url: https://www.jpl.nasa.gov/spaceimages/images/mediumsize/PIA16715_ip.jpg\n"
     ]
    }
   ],
   "source": [
    "#This may have changed in the mean time... only a mediumsize jpg on website\n",
    "featured_image_url = 'https://www.jpl.nasa.gov' + space_image\n",
    "print(\"featured_image_url: \" + featured_image_url)"
   ]
  },
  {
   "cell_type": "markdown",
   "metadata": {},
   "source": [
    "# Mars Weather"
   ]
  },
  {
   "cell_type": "code",
   "execution_count": 10,
   "metadata": {},
   "outputs": [],
   "source": [
    "executable_path = {'executable_path': 'chromedriver.exe'}\n",
    "browser = Browser('chrome', **executable_path, headless=True)# Mars Weather"
   ]
  },
  {
   "cell_type": "code",
   "execution_count": 11,
   "metadata": {},
   "outputs": [],
   "source": [
    "# URL of page to be scraped\n",
    "url = 'https://twitter.com/marswxreport?lang=en'\n",
    "browser.visit(url)\n",
    "html = browser.html\n",
    "soup = bs(html, 'html.parser')"
   ]
  },
  {
   "cell_type": "code",
   "execution_count": 12,
   "metadata": {},
   "outputs": [
    {
     "name": "stdout",
     "output_type": "stream",
     "text": [
      "mars_weather: If Jacobie wins the contest, he and his family will get to go watch the Mars rover launch from Cape Canaveral this summer! \n",
      "\n",
      "H/T @rtphokiehttps://10.wsls.com/38iijbf \n"
     ]
    }
   ],
   "source": [
    "mars_weather = soup.find('p', class_=\"TweetTextSize TweetTextSize--normal js-tweet-text tweet-text\").text\n",
    "print(\"mars_weather: \" + mars_weather)"
   ]
  },
  {
   "cell_type": "markdown",
   "metadata": {},
   "source": [
    "# Mars Facts"
   ]
  },
  {
   "cell_type": "code",
   "execution_count": 13,
   "metadata": {},
   "outputs": [
    {
     "data": {
      "text/html": [
       "<div>\n",
       "<style scoped>\n",
       "    .dataframe tbody tr th:only-of-type {\n",
       "        vertical-align: middle;\n",
       "    }\n",
       "\n",
       "    .dataframe tbody tr th {\n",
       "        vertical-align: top;\n",
       "    }\n",
       "\n",
       "    .dataframe thead th {\n",
       "        text-align: right;\n",
       "    }\n",
       "</style>\n",
       "<table border=\"1\" class=\"dataframe\">\n",
       "  <thead>\n",
       "    <tr style=\"text-align: right;\">\n",
       "      <th></th>\n",
       "      <th></th>\n",
       "    </tr>\n",
       "    <tr>\n",
       "      <th>Mars Profile:</th>\n",
       "      <th></th>\n",
       "    </tr>\n",
       "  </thead>\n",
       "  <tbody>\n",
       "    <tr>\n",
       "      <th>Equatorial Diameter:</th>\n",
       "      <td>6,792 km</td>\n",
       "    </tr>\n",
       "    <tr>\n",
       "      <th>Polar Diameter:</th>\n",
       "      <td>6,752 km</td>\n",
       "    </tr>\n",
       "    <tr>\n",
       "      <th>Mass:</th>\n",
       "      <td>6.39 × 10^23 kg (0.11 Earths)</td>\n",
       "    </tr>\n",
       "    <tr>\n",
       "      <th>Moons:</th>\n",
       "      <td>2 (Phobos &amp; Deimos)</td>\n",
       "    </tr>\n",
       "    <tr>\n",
       "      <th>Orbit Distance:</th>\n",
       "      <td>227,943,824 km (1.38 AU)</td>\n",
       "    </tr>\n",
       "    <tr>\n",
       "      <th>Orbit Period:</th>\n",
       "      <td>687 days (1.9 years)</td>\n",
       "    </tr>\n",
       "    <tr>\n",
       "      <th>Surface Temperature:</th>\n",
       "      <td>-87 to -5 °C</td>\n",
       "    </tr>\n",
       "    <tr>\n",
       "      <th>First Record:</th>\n",
       "      <td>2nd millennium BC</td>\n",
       "    </tr>\n",
       "    <tr>\n",
       "      <th>Recorded By:</th>\n",
       "      <td>Egyptian astronomers</td>\n",
       "    </tr>\n",
       "  </tbody>\n",
       "</table>\n",
       "</div>"
      ],
      "text/plain": [
       "                                                   \n",
       "Mars Profile:                                      \n",
       "Equatorial Diameter:                       6,792 km\n",
       "Polar Diameter:                            6,752 km\n",
       "Mass:                 6.39 × 10^23 kg (0.11 Earths)\n",
       "Moons:                          2 (Phobos & Deimos)\n",
       "Orbit Distance:            227,943,824 km (1.38 AU)\n",
       "Orbit Period:                  687 days (1.9 years)\n",
       "Surface Temperature:                   -87 to -5 °C\n",
       "First Record:                     2nd millennium BC\n",
       "Recorded By:                   Egyptian astronomers"
      ]
     },
     "execution_count": 13,
     "metadata": {},
     "output_type": "execute_result"
    }
   ],
   "source": [
    "url = 'https://space-facts.com/mars/'\n",
    "tables = pd.read_html(url)\n",
    "facts = pd.DataFrame(tables[0])\n",
    "facts.columns = ['Mars Profile:','']\n",
    "facts = facts.set_index('Mars Profile:')\n",
    "facts"
   ]
  },
  {
   "cell_type": "code",
   "execution_count": 14,
   "metadata": {},
   "outputs": [],
   "source": [
    "facts.to_html(\"mars_facts.html\")"
   ]
  },
  {
   "cell_type": "markdown",
   "metadata": {},
   "source": [
    "# Mars Hemispheres"
   ]
  },
  {
   "cell_type": "code",
   "execution_count": 15,
   "metadata": {},
   "outputs": [],
   "source": [
    "executable_path = {'executable_path': 'chromedriver.exe'}\n",
    "browser = Browser('chrome', **executable_path, headless=True)"
   ]
  },
  {
   "cell_type": "code",
   "execution_count": 16,
   "metadata": {},
   "outputs": [],
   "source": [
    "url = 'https://astrogeology.usgs.gov/search/results?q=hemisphere+enhanced&k1=target&v1=Mars'\n",
    "browser.visit(url)"
   ]
  },
  {
   "cell_type": "code",
   "execution_count": 17,
   "metadata": {},
   "outputs": [],
   "source": [
    "html = browser.html\n",
    "soup = bs(html, 'html.parser')\n",
    "# print(soup.prettify())"
   ]
  },
  {
   "cell_type": "code",
   "execution_count": 18,
   "metadata": {},
   "outputs": [],
   "source": [
    "# Find all links to clicked to obtain large image\n",
    "results = soup.find_all('a', class_='itemLink product-item')\n",
    "collection = []\n",
    "for r in results:\n",
    "    if r.h3:\n",
    "#         print(r['href'])\n",
    "        url = \"https://astrogeology.usgs.gov\" + r['href']\n",
    "        collection.append(url)\n",
    "\n",
    "# collection"
   ]
  },
  {
   "cell_type": "code",
   "execution_count": 19,
   "metadata": {
    "scrolled": true
   },
   "outputs": [
    {
     "name": "stdout",
     "output_type": "stream",
     "text": [
      "Now processing: https://astrogeology.usgs.gov/search/map/Mars/Viking/cerberus_enhanced\n",
      "Now processing: https://astrogeology.usgs.gov/search/map/Mars/Viking/schiaparelli_enhanced\n",
      "Now processing: https://astrogeology.usgs.gov/search/map/Mars/Viking/syrtis_major_enhanced\n",
      "Now processing: https://astrogeology.usgs.gov/search/map/Mars/Viking/valles_marineris_enhanced\n"
     ]
    }
   ],
   "source": [
    "# for each item in collections - find the large image by viewing the href. Then append to image list.\n",
    "\n",
    "image_list = []\n",
    "image_dict = {}\n",
    "\n",
    "for c in collection:\n",
    "    print(\"Now processing: \" + c)\n",
    "    browser.visit(c)\n",
    "    \n",
    "    html = browser.html\n",
    "    soup = bs(html, 'html.parser')\n",
    "    \n",
    "    image_url = soup.li.a['href']\n",
    "    title = soup.h2.text\n",
    "   \n",
    "    image_dict = {'hem_titel':title , 'hem_image_url':image_url}\n",
    "    image_list.append(image_dict)\n",
    "    \n",
    "    browser.back"
   ]
  },
  {
   "cell_type": "code",
   "execution_count": 20,
   "metadata": {},
   "outputs": [
    {
     "data": {
      "text/plain": [
       "[{'hem_titel': 'Cerberus Hemisphere Enhanced',\n",
       "  'hem_image_url': 'http://astropedia.astrogeology.usgs.gov/download/Mars/Viking/cerberus_enhanced.tif/full.jpg'},\n",
       " {'hem_titel': 'Schiaparelli Hemisphere Enhanced',\n",
       "  'hem_image_url': 'http://astropedia.astrogeology.usgs.gov/download/Mars/Viking/schiaparelli_enhanced.tif/full.jpg'},\n",
       " {'hem_titel': 'Syrtis Major Hemisphere Enhanced',\n",
       "  'hem_image_url': 'http://astropedia.astrogeology.usgs.gov/download/Mars/Viking/syrtis_major_enhanced.tif/full.jpg'},\n",
       " {'hem_titel': 'Valles Marineris Hemisphere Enhanced',\n",
       "  'hem_image_url': 'http://astropedia.astrogeology.usgs.gov/download/Mars/Viking/valles_marineris_enhanced.tif/full.jpg'}]"
      ]
     },
     "execution_count": 20,
     "metadata": {},
     "output_type": "execute_result"
    }
   ],
   "source": [
    "# Show the image_list\n",
    "image_list"
   ]
  },
  {
   "cell_type": "code",
   "execution_count": 21,
   "metadata": {},
   "outputs": [
    {
     "data": {
      "text/plain": [
       "{'news_title': \"NASA's Mars 2020 Rover Completes Its First Drive\",\n",
       " 'news_body': \"155 students from across the U.S. have been chosen as semifinalists in NASA's essay contest to name the Mars 2020 rover, and see it launch from Cape Canaveral this July.\",\n",
       " 'featured_image_url': 'https://www.jpl.nasa.gov/spaceimages/images/mediumsize/PIA16715_ip.jpg',\n",
       " 'mars_weather': 'If Jacobie wins the contest, he and his family will get to go watch the Mars rover launch from Cape Canaveral this summer! \\n\\nH/T @rtphokiehttps://10.wsls.com/38iijbf\\xa0',\n",
       " 'mars_facts_url': 'mars_facts.html',\n",
       " 'image_list': [{'hem_titel': 'Cerberus Hemisphere Enhanced',\n",
       "   'hem_image_url': 'http://astropedia.astrogeology.usgs.gov/download/Mars/Viking/cerberus_enhanced.tif/full.jpg'},\n",
       "  {'hem_titel': 'Schiaparelli Hemisphere Enhanced',\n",
       "   'hem_image_url': 'http://astropedia.astrogeology.usgs.gov/download/Mars/Viking/schiaparelli_enhanced.tif/full.jpg'},\n",
       "  {'hem_titel': 'Syrtis Major Hemisphere Enhanced',\n",
       "   'hem_image_url': 'http://astropedia.astrogeology.usgs.gov/download/Mars/Viking/syrtis_major_enhanced.tif/full.jpg'},\n",
       "  {'hem_titel': 'Valles Marineris Hemisphere Enhanced',\n",
       "   'hem_image_url': 'http://astropedia.astrogeology.usgs.gov/download/Mars/Viking/valles_marineris_enhanced.tif/full.jpg'}]}"
      ]
     },
     "execution_count": 21,
     "metadata": {},
     "output_type": "execute_result"
    }
   ],
   "source": [
    "return_dict = {}\n",
    "\n",
    "return_dict['news_title'] = news_title\n",
    "return_dict['news_body'] = news_body\n",
    "return_dict['featured_image_url'] = featured_image_url\n",
    "return_dict['mars_weather'] = mars_weather\n",
    "return_dict['mars_facts_url'] = 'mars_facts.html'\n",
    "return_dict['image_list'] = image_list\n",
    " \n",
    "return_dict"
   ]
  }
 ],
 "metadata": {
  "kernelspec": {
   "display_name": "Python [conda env:PythonData]",
   "language": "python",
   "name": "conda-env-PythonData-py"
  },
  "language_info": {
   "codemirror_mode": {
    "name": "ipython",
    "version": 3
   },
   "file_extension": ".py",
   "mimetype": "text/x-python",
   "name": "python",
   "nbconvert_exporter": "python",
   "pygments_lexer": "ipython3",
   "version": "3.6.9"
  }
 },
 "nbformat": 4,
 "nbformat_minor": 2
}
